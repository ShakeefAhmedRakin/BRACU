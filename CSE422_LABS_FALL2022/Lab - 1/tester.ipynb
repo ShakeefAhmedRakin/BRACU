{
 "cells": [
  {
   "cell_type": "code",
   "execution_count": 21,
   "metadata": {},
   "outputs": [
    {
     "name": "stdout",
     "output_type": "stream",
     "text": [
      "['A', 'F', 'G', 'I', 'J'] 10\n",
      "True\n"
     ]
    }
   ],
   "source": [
    "from queue import PriorityQueue\n",
    "\n",
    "file = open('input2.txt','r')\n",
    "info = file.readlines()\n",
    "\n",
    "#removing \\n and assigning legends#\n",
    "for i in range(len(info)):\n",
    "    info[i]=info[i][0:-1]\n",
    "    \n",
    "#---------------------------------------------------------#\n",
    "\n",
    "\n",
    "#seperating heuristic values#\n",
    "heur_values={}\n",
    "for i in info:\n",
    "    i = i.split(' ')\n",
    "    heur_values[i[0]]=int(i[1])\n",
    "#---------------------------------------------------------#\n",
    "\n",
    "\n",
    "#creating graph#\n",
    "graph = {}\n",
    "for i in info:\n",
    "    i=i.split(' ')\n",
    "    i.pop(1)\n",
    "    graph[i[0]]=[]\n",
    "    for j in range(1,len(i),2):\n",
    "        graph[i[0]].append((i[j],int(i[j+1])))\n",
    "        \n",
    "#---------------------------------------------------------#        \n",
    "\n",
    "\n",
    "q = PriorityQueue()\n",
    "visited = []\n",
    "path = []\n",
    "path_found = False\n",
    "\n",
    "strt = 'A'\n",
    "dest =  'J'\n",
    "\n",
    "q.put((heur_values[strt],strt,strt))\n",
    "\n",
    "while q.empty()==False:\n",
    "    \n",
    "    parent=q.get() #(heur,legend,parent)\n",
    "    visited.append(parent[1])\n",
    "    if parent[2] not in path:     \n",
    "        path.append(parent[2])\n",
    "    \n",
    "    if parent[1]==dest:\n",
    "        path_found=True\n",
    "        path.append(dest)\n",
    "        break\n",
    "        \n",
    "    for children in graph[parent[1]]: #children = ('node',weight)\n",
    "        \n",
    "        if children[0] not in visited:\n",
    "            f_n = parent[0]-heur_values[parent[1]]+children[1]+heur_values[children[0]]\n",
    "            q.put((f_n,children[0],parent[1]))\n",
    "\n",
    "\n",
    "total_distance = 0\n",
    "for i in range(len(path)):\n",
    "    for j in graph[path[i]]:\n",
    "        if i<len(path)-1:\n",
    "            if j[0]==path[i+1]:\n",
    "                total_distance+=j[1]   \n",
    "        \n",
    "print(path,total_distance)\n",
    "print(path_found)\n",
    "   \n",
    "\n",
    "  \n",
    "    \n"
   ]
  },
  {
   "cell_type": "code",
   "execution_count": null,
   "metadata": {},
   "outputs": [],
   "source": []
  },
  {
   "cell_type": "code",
   "execution_count": null,
   "metadata": {},
   "outputs": [],
   "source": []
  }
 ],
 "metadata": {
  "kernelspec": {
   "display_name": "Python 3",
   "language": "python",
   "name": "python3"
  },
  "language_info": {
   "codemirror_mode": {
    "name": "ipython",
    "version": 3
   },
   "file_extension": ".py",
   "mimetype": "text/x-python",
   "name": "python",
   "nbconvert_exporter": "python",
   "pygments_lexer": "ipython3",
   "version": "3.7.6"
  }
 },
 "nbformat": 4,
 "nbformat_minor": 4
}
