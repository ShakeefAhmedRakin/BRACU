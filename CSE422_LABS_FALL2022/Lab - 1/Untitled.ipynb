{
 "cells": [
  {
   "cell_type": "code",
   "execution_count": 29,
   "metadata": {},
   "outputs": [
    {
     "name": "stdout",
     "output_type": "stream",
     "text": [
      "Insert starting distance:Arad\n",
      "Insert destination:Bucharest\n",
      "Path: Arad->Sibiu->Fagaras->Bucharest\n",
      "Total Distance: 450 km\n"
     ]
    }
   ],
   "source": [
    "from queue import PriorityQueue\n",
    "\n",
    "\n",
    "class ctNode:\n",
    "    def __init__(self, city, distance):\n",
    "        self.city = str(city)\n",
    "        self.distance = str(distance)\n",
    "\n",
    "romania = {}\n",
    "\n",
    "def makedict():\n",
    "\n",
    "    infile = open(\"Input file.txt\",'r')\n",
    "    \n",
    "    for string in infile:\n",
    "        line = string.split(' ')\n",
    "        ct1 = line[0]\n",
    "        children = line[2:]\n",
    "\n",
    "        \n",
    "        for i in range(0,len(children),2):\n",
    "            ct2 = children[i] #0,2,4,6,8\n",
    "            dist = int(children[i+1]) #1,3,5,7\n",
    "            romania.setdefault(ct1, []).append(ctNode(ct2, dist))\n",
    "                       \n",
    "               \n",
    "def makehuristikdict():\n",
    "    h = {}\n",
    "   \n",
    "    with open(\"Input file.txt\", 'r') as infile:\n",
    "        \n",
    "        for line in infile:            \n",
    "            line = line.split(' ')    \n",
    "            node = line[0]\n",
    "            sld = int(line[1])\n",
    "            h[node]=sld\n",
    "            \n",
    "    return h\n",
    "            \n",
    "\n",
    "\n",
    "def astar(start, end):\n",
    "    path = {}\n",
    "    distance = {}\n",
    "    q = PriorityQueue()\n",
    "    h = makehuristikdict()\n",
    "    q.put(start, h['Arad'])\n",
    "    distance[start] = 0\n",
    "    path[start] = None\n",
    "    expandedList = []\n",
    "    while (q.empty() == False):\n",
    "        current = q.get()\n",
    "        expandedList.append(current)\n",
    "        if (current == end):\n",
    "            break\n",
    "        for new in romania[current]:\n",
    "            g_cost = distance[current] + int(new.distance)\n",
    "            #print(new.city, new.distance, \"now : \" + str(distance[current]), g_cost)\n",
    "            if (new.city not in distance or g_cost < distance[new.city]):\n",
    "                distance[new.city] = g_cost\n",
    "                f_cost = g_cost + h[new.city]\n",
    "                #print(f_cost)\n",
    "                q.put(new.city, f_cost)\n",
    "                path[new.city] = current\n",
    "    printoutput(start, end, path, distance, expandedList)\n",
    "\n",
    "def printoutput(start, end, path, distance, expandedlist):\n",
    "    finalpath = []\n",
    "    i = end\n",
    "    while (path.get(i) != None):\n",
    "        finalpath.append(i)\n",
    "        i = path[i]\n",
    "    finalpath.append(start)\n",
    "    finalpath.reverse()\n",
    "    \n",
    "    print('Path:',end=' ')\n",
    "\n",
    "    \n",
    "    for i in range(0,len(finalpath)-1):\n",
    "        \n",
    "        print(finalpath[i],end='->')\n",
    "    print(finalpath[len(finalpath)-1])\n",
    "    print(\"Total Distance: \" + str(distance[end]) + ' km')\n",
    "\n",
    "def main():\n",
    "    src = input('Insert starting distance:')\n",
    "    dst = input('Insert destination:')\n",
    "    makedict()\n",
    "    astar(src, dst)\n",
    "\n",
    "if __name__ == \"__main__\" :\n",
    "    main()\n",
    "\n",
    "    "
   ]
  },
  {
   "cell_type": "code",
   "execution_count": 13,
   "metadata": {},
   "outputs": [
    {
     "name": "stdout",
     "output_type": "stream",
     "text": [
      "None\n"
     ]
    }
   ],
   "source": [
    "dict = {'ARad':2}\n",
    "\n",
    "print(dict.get('ASDA'))"
   ]
  },
  {
   "cell_type": "code",
   "execution_count": null,
   "metadata": {},
   "outputs": [],
   "source": []
  }
 ],
 "metadata": {
  "kernelspec": {
   "display_name": "Python 3",
   "language": "python",
   "name": "python3"
  },
  "language_info": {
   "codemirror_mode": {
    "name": "ipython",
    "version": 3
   },
   "file_extension": ".py",
   "mimetype": "text/x-python",
   "name": "python",
   "nbconvert_exporter": "python",
   "pygments_lexer": "ipython3",
   "version": "3.7.6"
  }
 },
 "nbformat": 4,
 "nbformat_minor": 4
}
